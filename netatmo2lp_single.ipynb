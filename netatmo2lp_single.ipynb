{
 "cells": [
  {
   "cell_type": "code",
   "execution_count": null,
   "id": "9c042ed5-ef48-412f-bbb8-7078a6ca69c3",
   "metadata": {},
   "outputs": [],
   "source": [
    "# netatmo2lp_auto_naming_single.ypnb"
   ]
  },
  {
   "cell_type": "code",
   "execution_count": 8,
   "id": "c5299a4d-8d30-41aa-be2a-95e6110b073e",
   "metadata": {},
   "outputs": [
    {
     "name": "stdout",
     "output_type": "stream",
     "text": [
      "File: Outdoor_June_2024.csv\n",
      "First timestamp: 1717189436\n",
      "First date (UTC): 2024-05-31 21:03:56+00:00\n",
      "First date (Local): 2024-06-01 00:03:56+03:00\n",
      "Year and month: 2024_06\n",
      "InfluxDB line protocol data has been saved to Rosu_2024_06.lp\n"
     ]
    }
   ],
   "source": [
    "import pandas as pd\n",
    "import os\n",
    "from datetime import datetime\n",
    "import pytz\n",
    "\n",
    "# Function to convert a row to InfluxDB line protocol\n",
    "def to_influxdb_line_protocol(row, measurement, tags):\n",
    "    timestamp = row['Timestamp']\n",
    "    fields = f\"Temperature={row['Temperature']},Humidity={row['Humidity']}\"\n",
    "    tag_set = \",\".join([f\"{key}={value}\" for key, value in tags.items()])\n",
    "    return f\"{measurement},{tag_set} {fields} {timestamp}\"\n",
    "\n",
    "# Define the path to the single CSV file\n",
    "csv_file_path = 'Outdoor_June_2024.csv'\n",
    "#print(csv_file_path)\n",
    "\n",
    "with open(csv_file_path, 'r') as file:\n",
    "    first_line = file.readline().strip()\n",
    "\n",
    "# Check if the first line contains the required header\n",
    "if first_line != \"Name;Long;Lat;ModuleName;ModuleType\":\n",
    "    print(f\"File {csv_file_path} does not have the required header. Skipping.\")\n",
    "else:\n",
    "    # Read the metadata (first two rows)\n",
    "    metadata = pd.read_csv(csv_file_path, sep=';', nrows=2)\n",
    "\n",
    "    # Remove double quotes from metadata columns\n",
    "    for col in metadata.columns:\n",
    "        if metadata[col].dtype == 'object':\n",
    "            metadata[col] = metadata[col].map(lambda x: x.strip('\"') if isinstance(x, str) else x)\n",
    "\n",
    "    # Extract latitude, longitude, ModuleType, and Timezone from metadata\n",
    "    lat = metadata['Lat'][0]\n",
    "    long = metadata['Long'][0]\n",
    "    module_type = metadata['ModuleType'][0]\n",
    "\n",
    "    # Timezone is in the second row, second column\n",
    "    timezone_str = metadata.iloc[1, 1].split(':')[1].strip()\n",
    "    timezone = pytz.timezone(timezone_str)\n",
    "\n",
    "    # Read the time-series data starting from the correct row\n",
    "    time_series_data = pd.read_csv(csv_file_path, sep=';', skiprows=2)\n",
    "\n",
    "    # Remove double quotes from time-series data columns\n",
    "    for col in time_series_data.columns:\n",
    "        if time_series_data[col].dtype == 'object':\n",
    "            time_series_data[col] = time_series_data[col].map(lambda x: x.strip('\"') if isinstance(x, str) else x)\n",
    "\n",
    "    # Strip any leading/trailing spaces from column names\n",
    "    time_series_data.columns = time_series_data.columns.str.strip()\n",
    "\n",
    "    # Extract the date from the first measurement\n",
    "    first_timestamp = int(time_series_data['Timestamp'].iloc[0])\n",
    "    first_date_utc = datetime.utcfromtimestamp(first_timestamp).replace(tzinfo=pytz.utc)\n",
    "    first_date_local = first_date_utc.astimezone(timezone)\n",
    "    year_month = first_date_local.strftime('%Y_%m')  # Format to \"YYYY_MM\"\n",
    "\n",
    "    # Print debug information\n",
    "    print(f\"File: {csv_file_path}\")\n",
    "    print(f\"First timestamp: {first_timestamp}\")\n",
    "    print(f\"First date (UTC): {first_date_utc}\")\n",
    "    print(f\"First date (Local): {first_date_local}\")\n",
    "    print(f\"Year and month: {year_month}\")\n",
    "\n",
    "    # Convert time-series data to InfluxDB line protocol\n",
    "    measurement = \"Rosu\"\n",
    "    tags = {\"lat\": lat, \"long\": long, \"ModuleType\": module_type, \"Timezone\": timezone_str}\n",
    "\n",
    "    lines = time_series_data.apply(lambda row: to_influxdb_line_protocol(row, measurement, tags), axis=1)\n",
    "\n",
    "    # Create new filename based on the date of the first measurement\n",
    "    output_file = f\"{measurement}_{year_month}.lp\"\n",
    "\n",
    "    # Save the result to a new CSV file without quotes\n",
    "    with open(output_file, 'w') as f:\n",
    "        for line in lines:\n",
    "            f.write(line + '\\n')\n",
    "\n",
    "    print(f\"InfluxDB line protocol data has been saved to {output_file}\")\n"
   ]
  },
  {
   "cell_type": "code",
   "execution_count": null,
   "id": "1878a434-3aec-4f32-8268-b147c4402129",
   "metadata": {},
   "outputs": [],
   "source": []
  }
 ],
 "metadata": {
  "kernelspec": {
   "display_name": "Python 3 (ipykernel)",
   "language": "python",
   "name": "python3"
  },
  "language_info": {
   "codemirror_mode": {
    "name": "ipython",
    "version": 3
   },
   "file_extension": ".py",
   "mimetype": "text/x-python",
   "name": "python",
   "nbconvert_exporter": "python",
   "pygments_lexer": "ipython3",
   "version": "3.11.9"
  }
 },
 "nbformat": 4,
 "nbformat_minor": 5
}
